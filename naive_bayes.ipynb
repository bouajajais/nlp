{
 "metadata": {
  "language_info": {
   "codemirror_mode": {
    "name": "ipython",
    "version": 3
   },
   "file_extension": ".py",
   "mimetype": "text/x-python",
   "name": "python",
   "nbconvert_exporter": "python",
   "pygments_lexer": "ipython3",
   "version": "3.6.9-final"
  },
  "orig_nbformat": 2,
  "kernelspec": {
   "name": "python_defaultSpec_1600860719902",
   "display_name": "Python 3.6.9 64-bit"
  }
 },
 "nbformat": 4,
 "nbformat_minor": 2,
 "cells": [
  {
   "cell_type": "code",
   "execution_count": 8,
   "metadata": {},
   "outputs": [],
   "source": [
    "import re\n",
    "from nltk.stem import WordNetLemmatizer\n",
    "from wordcloud import STOPWORDS\n",
    "from sklearn.model_selection import train_test_split"
   ]
  },
  {
   "cell_type": "code",
   "execution_count": 1,
   "metadata": {
    "tags": []
   },
   "outputs": [
    {
     "output_type": "stream",
     "name": "stdout",
     "text": "['Go until jurong point, crazy.. Available only in bugis n great world la e buffet... Cine there got amore wat...\\n', 'Ok lar... Joking wif u oni...\\n']\n['ham', 'ham']\n"
    }
   ],
   "source": [
    "def load():\n",
    "    msgs = {\n",
    "        'data' : [],\n",
    "        'target' : []\n",
    "    }\n",
    "\n",
    "    with open(\"SMSSpamCollection\") as f:\n",
    "        lines = f.readlines()\n",
    "        for line in lines:\n",
    "            target, msg = line.split('\\t')\n",
    "            msgs['data'].append(msg)\n",
    "            msgs['target'].append(target)\n",
    "\n",
    "    return msgs"
   ]
  },
  {
   "cell_type": "code",
   "execution_count": 7,
   "metadata": {
    "tags": []
   },
   "outputs": [
    {
     "output_type": "stream",
     "name": "stdout",
     "text": "3901\n3901\n1673\n1673\n"
    }
   ],
   "source": [
    "def preprocess(data):\n",
    "    # lowercase (str -> str)\n",
    "    data = [line.lower() for line in data]\n",
    "\n",
    "    # numbers (str -> str)\n",
    "    data = [re.sub(r'\\d+', '', line) for line in data]\n",
    "\n",
    "    # punctuation (str -> str)\n",
    "    data = [line.translate(str.maketrans(\"\", \"\", string.punctuation)) for line in data]\n",
    "\n",
    "    #replace ’ with ' and remove “ and ” (str -> str)\n",
    "    data = [line.replace(\"’\",\"'\") for line in data]\n",
    "    data = [line.replace(\"“\",\"\") for line in data]\n",
    "    data = [line.replace(\"”\",\"\") for line in data]\n",
    "\n",
    "    # whitespaces (str -> str)\n",
    "    data = [line.strip() for line in data]\n",
    "\n",
    "    # tokenization (str -> list)\n",
    "    data = [line.split(' ') for line in data]\n",
    "\n",
    "    # stopwords (list -> list)\n",
    "    stopwords = set(STOPWORDS)\n",
    "    stopwords.update({})\n",
    "    data = [[word for word in line if len(word) > 2 and not word in stopwords] for line in data]\n",
    "\n",
    "    # Lemmatization (list -> list)\n",
    "    data = [[WordNetLemmatizer().lemmatize(word) for word in line] for line in data]\n",
    "\n",
    "    return data"
   ]
  },
  {
   "cell_type": "code",
   "execution_count": 3,
   "metadata": {},
   "outputs": [],
   "source": [
    "def split(data, target, test_size=0.3, random_state=109):\n",
    "    # Split dataset into training set and test set\n",
    "    # 70% training and 30% test (default)\n",
    "    return train_test_split(data, target, test_size=test_size,random_state=random_state)"
   ]
  },
  {
   "cell_type": "code",
   "execution_count": null,
   "metadata": {},
   "outputs": [],
   "source": []
  }
 ]
}